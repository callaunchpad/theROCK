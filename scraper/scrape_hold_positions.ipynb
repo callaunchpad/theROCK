{
 "cells": [
  {
   "cell_type": "markdown",
   "metadata": {},
   "source": [
    "# Scraping Holds\n",
    "There are a total of 140 holds on MoonBoard 2016 configuration. This notebook scrapes:\n",
    "\n",
    "* Hold positions\n",
    "* Hold orientations\n",
    "* Hold images"
   ]
  },
  {
   "cell_type": "code",
   "execution_count": 1,
   "metadata": {},
   "outputs": [],
   "source": [
    "import os\n",
    "import sys\n",
    "import pdb\n",
    "import time\n",
    "import copy\n",
    "import string\n",
    "import pickle\n",
    "import requests\n",
    "\n",
    "from moonboard_helper import *"
   ]
  },
  {
   "cell_type": "code",
   "execution_count": 18,
   "metadata": {},
   "outputs": [
    {
     "name": "stdout",
     "output_type": "stream",
     "text": [
      "{'username': 'Shi Hao', 'password': '12345678', 'assets_path': './assets/', 'save_path': '', 'save_path_holds': '', 'save_path_failed': '', 'save_path_final': ''}\n"
     ]
    }
   ],
   "source": [
    "# Load credentials\n",
    "with open('./credentials.txt') as f:\n",
    "    flines = f.readlines()\n",
    "\n",
    "cred_dict = {s.split('-')[0].strip() : s.split('-')[1].strip() for s in flines}\n",
    "print(cred_dict)"
   ]
  },
  {
   "cell_type": "code",
   "execution_count": 22,
   "metadata": {},
   "outputs": [],
   "source": [
    "# Login credentials\n",
    "username = cred_dict['username']\n",
    "password = cred_dict['password']\n",
    "\n",
    "# Data paths\n",
    "# driver_path = cred_dict['driver_path']\n",
    "assets_path = cred_dict['assets_path']\n",
    "hold_pos_path = assets_path + 'hold_positions.pickle'\n",
    "hold_img_path = assets_path + 'hold_images/'\n",
    "\n",
    "# Moonboard hold configurations\n",
    "hold_setup_name = 'MoonBoard 2016'\n",
    "hold_set_names = [\n",
    "    'Original School Holds',\n",
    "    'Hold Set A',\n",
    "    'Hold Set B'\n",
    "]\n",
    "\n",
    "# Moonboard URLs\n",
    "moonboard_url = 'https://www.moonboard.com/'"
   ]
  },
  {
   "cell_type": "markdown",
   "metadata": {},
   "source": [
    "## Helper Functions"
   ]
  },
  {
   "cell_type": "code",
   "execution_count": 4,
   "metadata": {},
   "outputs": [],
   "source": [
    "def download_img(image_url, image_path):\n",
    "    \"\"\"\n",
    "    Saves image to specified path, given a url\n",
    "    \"\"\"\n",
    "    if not os.path.exists(image_path):\n",
    "        img_data = requests.get(image_url).content\n",
    "        with open(image_path, 'wb') as handler:\n",
    "            handler.write(img_data)\n",
    "    return None"
   ]
  },
  {
   "cell_type": "markdown",
   "metadata": {},
   "source": [
    "## Define Position Map\n",
    "Moonboard hold positions are defined by letters A - K on the horizontal axis (left to right) and numbers 1 - 18 (bottom to up) on the vertical axis. The following maps will be used to alter this mapping to the numpy convention:\n",
    "\n",
    "* Origin at the upper-left corner of a grid\n",
    "* Dimension 1 (axis 0) indexed along vertical axis, top-to-bottom increasing\n",
    "* Dimension 2 (axis 1) indexed along horizontal axis, left-to-right increasing"
   ]
  },
  {
   "cell_type": "code",
   "execution_count": 5,
   "metadata": {},
   "outputs": [
    {
     "name": "stdout",
     "output_type": "stream",
     "text": [
      "{'A': 0, 'B': 1, 'C': 2, 'D': 3, 'E': 4, 'F': 5, 'G': 6, 'H': 7, 'I': 8, 'J': 9, 'K': 10}\n"
     ]
    }
   ],
   "source": [
    "# Horizontal indexes\n",
    "uppercases = string.ascii_uppercase\n",
    "\n",
    "s_char = 'A'\n",
    "e_char = 'K'\n",
    "\n",
    "s_idx = uppercases.index(s_char)\n",
    "e_idx = uppercases.index(e_char)\n",
    "\n",
    "horiz_pos_map = {uppercases[i]:i for i in range(s_idx, e_idx+1)}\n",
    "print(horiz_pos_map)"
   ]
  },
  {
   "cell_type": "code",
   "execution_count": 6,
   "metadata": {},
   "outputs": [
    {
     "name": "stdout",
     "output_type": "stream",
     "text": [
      "{1: 17, 2: 16, 3: 15, 4: 14, 5: 13, 6: 12, 7: 11, 8: 10, 9: 9, 10: 8, 11: 7, 12: 6, 13: 5, 14: 4, 15: 3, 16: 2, 17: 1, 18: 0}\n"
     ]
    }
   ],
   "source": [
    "# Vertical indexes\n",
    "num_vert = 18\n",
    "\n",
    "original_range = [i for i in range(1, 19)]\n",
    "new_range = [i for i in range(17, -1, -1)]\n",
    "\n",
    "assert(len(original_range) == num_vert)\n",
    "assert(len(new_range) == num_vert)\n",
    "\n",
    "vert_pos_map = {original_range[i]: new_range[i] for i in range(num_vert)}\n",
    "print(vert_pos_map)"
   ]
  },
  {
   "cell_type": "markdown",
   "metadata": {},
   "source": [
    "## Access MoonBoard Holds Page"
   ]
  },
  {
   "cell_type": "code",
   "execution_count": 10,
   "metadata": {},
   "outputs": [],
   "source": [
    "# Start browser and login\n",
    "browser = load_browser() # selenium no longer needs driver path\n",
    "loginMoonBoard(browser, url = moonboard_url, username = username, password = password)\n",
    "time.sleep(5)"
   ]
  },
  {
   "cell_type": "code",
   "execution_count": 11,
   "metadata": {},
   "outputs": [
    {
     "data": {
      "text/plain": [
       "<selenium.webdriver.remote.webelement.WebElement (session=\"1d2b42ae2f76575b3ec3641c3e358296\", element=\"5E0E2B6DF2E2A86A74A061F9FED5AC10_element_248\")>"
      ]
     },
     "execution_count": 11,
     "metadata": {},
     "output_type": "execute_result"
    }
   ],
   "source": [
    "# Go to holds setup page\n",
    "click_problems = find_and_click(browser, 'a', 'id', 'lHoldsetups')\n",
    "click_view = find_and_click(browser, 'li', 'id', 'm-viewholdsetups')\n",
    "time.sleep(3)\n",
    "\n",
    "# Set hold configuration\n",
    "click_holdsetup(browser, hold_setup_name)"
   ]
  },
  {
   "cell_type": "markdown",
   "metadata": {},
   "source": [
    "## Access and Scrape Holds"
   ]
  },
  {
   "cell_type": "code",
   "execution_count": 12,
   "metadata": {},
   "outputs": [],
   "source": [
    "# Get expansion items\n",
    "attr_dict = {\n",
    "    'class':'k-icon k-i-expand',\n",
    "    'aria-label':'Expand',\n",
    "    'tabindex':'-1'\n",
    "}\n",
    "elems = get_elem_set(browser, 'a', attr_dict)"
   ]
  },
  {
   "cell_type": "code",
   "execution_count": 13,
   "metadata": {},
   "outputs": [],
   "source": [
    "# Expand everything\n",
    "for e in elems:\n",
    "    e.click()\n",
    "time.sleep(1)"
   ]
  },
  {
   "cell_type": "code",
   "execution_count": 14,
   "metadata": {},
   "outputs": [
    {
     "name": "stdout",
     "output_type": "stream",
     "text": [
      "Number of row elements: 147\n"
     ]
    }
   ],
   "source": [
    "# Collect all hold items\n",
    "attr_dict = {'role':'row'}\n",
    "rows = get_elem_set(browser, 'tr', attr_dict)\n",
    "print('Number of row elements:', len(rows))"
   ]
  },
  {
   "cell_type": "code",
   "execution_count": 23,
   "metadata": {
    "scrolled": false
   },
   "outputs": [
    {
     "name": "stdout",
     "output_type": "stream",
     "text": [
      "Failed to find src\n",
      "Failed to find src\n",
      "Failed to find src\n",
      "Failed to find src\n",
      "Failed to find src\n",
      "Failed to find src\n",
      "Failed to find src\n",
      "\n",
      "Number of scraped holds: 140\n"
     ]
    }
   ],
   "source": [
    "# Initialize hold information dictionary\n",
    "row_info_dict = {}\n",
    "\n",
    "# Scrape holds\n",
    "for i, row in enumerate(rows):\n",
    "    img_urls = find_element_attr(row, 'img', 'src') \n",
    "    \n",
    "    if img_urls is None:\n",
    "        continue\n",
    "    \n",
    "    # Get hold information\n",
    "    hold_info = find_element_text(row, 'td')\n",
    "    assert(len(hold_info) == 3)\n",
    "    h_number, h_orient, h_pos = hold_info\n",
    "    \n",
    "    # Get hold name\n",
    "    img_url = img_urls[0]\n",
    "    h = img_url.split('/')[-1].split('.png')[0]\n",
    "    assert(h.replace('h', '') == h_number)\n",
    "    \n",
    "    # Save hold into dictionary\n",
    "    row_info_dict[h] = {\n",
    "        'orientation': h_orient,\n",
    "        'position': h_pos\n",
    "    }\n",
    "\n",
    "    # Download hold image\n",
    "    image_save_name = hold_img_path + '%s.png'%h\n",
    "    download_img(img_url, image_save_name)\n",
    "\n",
    "# Number of holds should be 140 for Moonboard 2016\n",
    "print('\\nNumber of scraped holds:', len(row_info_dict))"
   ]
  },
  {
   "cell_type": "code",
   "execution_count": 24,
   "metadata": {},
   "outputs": [
    {
     "name": "stdout",
     "output_type": "stream",
     "text": [
      "Number of hold images: 140\n"
     ]
    }
   ],
   "source": [
    "# Check that number of images is correct\n",
    "img_names = [f for f in os.listdir(hold_img_path)]\n",
    "print('Number of hold images:', len(img_names))"
   ]
  },
  {
   "cell_type": "code",
   "execution_count": 25,
   "metadata": {},
   "outputs": [],
   "source": [
    "# Apply coordinate mapping\n",
    "holds_info_dict = copy.deepcopy(row_info_dict)\n",
    "\n",
    "for k, v in holds_info_dict.items():\n",
    "    position = v['position']\n",
    "    \n",
    "    axis_0_val = vert_pos_map[int(position[1:])]\n",
    "    axis_1_val = horiz_pos_map[position[0]]\n",
    "    \n",
    "    v['coord_position'] = [axis_0_val, axis_1_val]"
   ]
  },
  {
   "cell_type": "code",
   "execution_count": 26,
   "metadata": {},
   "outputs": [
    {
     "name": "stdout",
     "output_type": "stream",
     "text": [
      "{'orientation': 'SE', 'position': 'H7'}\n",
      "{'orientation': 'SE', 'position': 'H7', 'coord_position': [11, 7]}\n"
     ]
    }
   ],
   "source": [
    "# Observe coordinate mapping\n",
    "print(row_info_dict['h1'])\n",
    "print(holds_info_dict['h1'])"
   ]
  },
  {
   "cell_type": "code",
   "execution_count": 27,
   "metadata": {},
   "outputs": [],
   "source": [
    "# Save mined hold dictionary\n",
    "save_pickle(holds_info_dict, hold_pos_path)"
   ]
  },
  {
   "cell_type": "code",
   "execution_count": 28,
   "metadata": {},
   "outputs": [],
   "source": [
    "# Close browser\n",
    "browser.close()"
   ]
  },
  {
   "cell_type": "code",
   "execution_count": null,
   "metadata": {},
   "outputs": [],
   "source": []
  }
 ],
 "metadata": {
  "kernelspec": {
   "display_name": "Python 3",
   "language": "python",
   "name": "python3"
  },
  "language_info": {
   "codemirror_mode": {
    "name": "ipython",
    "version": 3
   },
   "file_extension": ".py",
   "mimetype": "text/x-python",
   "name": "python",
   "nbconvert_exporter": "python",
   "pygments_lexer": "ipython3",
   "version": "3.9.7"
  }
 },
 "nbformat": 4,
 "nbformat_minor": 2
}
